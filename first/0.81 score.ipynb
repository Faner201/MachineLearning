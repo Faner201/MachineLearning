{
 "cells": [
  {
   "cell_type": "markdown",
   "id": "8e9eef49",
   "metadata": {},
   "source": [
    "# Объявление инпунтов"
   ]
  },
  {
   "cell_type": "code",
   "execution_count": 1,
   "id": "ec238dd1",
   "metadata": {},
   "outputs": [],
   "source": [
    "import os\n",
    "import pandas as pd\n",
    "import numpy as np\n",
    "from keras.models import Sequential, Model\n",
    "from keras.layers import Dense, Conv2D, Flatten, Activation, Dropout\n",
    "from tensorflow.keras.preprocessing.image import ImageDataGenerator\n",
    "from keras import applications, optimizers\n",
    "from pandas import DataFrame"
   ]
  },
  {
   "cell_type": "markdown",
   "id": "bfb5884e",
   "metadata": {},
   "source": [
    "# Установка const параметров для обработки"
   ]
  },
  {
   "cell_type": "code",
   "execution_count": 2,
   "id": "43695bcd",
   "metadata": {},
   "outputs": [],
   "source": [
    "img_size = 224\n",
    "batch_size = 32"
   ]
  },
  {
   "cell_type": "markdown",
   "id": "6ccb4b48",
   "metadata": {},
   "source": [
    "# Создание генератора для обучения с аугментацией изображений"
   ]
  },
  {
   "cell_type": "code",
   "execution_count": 15,
   "id": "d2e17e8e",
   "metadata": {},
   "outputs": [],
   "source": [
    "train_datagen = ImageDataGenerator(\n",
    "    rescale=1./255,\n",
    "    rotation_range=20,\n",
    "    width_shift_range=0.4,\n",
    "    height_shift_range=0.4,\n",
    "    shear_range=0.4,\n",
    "    zoom_range=0.4,\n",
    "    horizontal_flip=True,\n",
    "    vertical_flip=True,\n",
    "    fill_mode='nearest'\n",
    ")"
   ]
  },
  {
   "cell_type": "code",
   "execution_count": 16,
   "id": "d5b9665b",
   "metadata": {},
   "outputs": [
    {
     "name": "stdout",
     "output_type": "stream",
     "text": [
      "Found 40 images belonging to 2 classes.\n"
     ]
    }
   ],
   "source": [
    "train_generator = train_datagen.flow_from_directory(\n",
    "    '/Users/fanfurick/Downloads/plates/train',\n",
    "    target_size=(img_size, img_size),\n",
    "    batch_size=batch_size,\n",
    "    class_mode='binary',\n",
    ")"
   ]
  },
  {
   "cell_type": "code",
   "execution_count": 17,
   "id": "44f1b9f5",
   "metadata": {},
   "outputs": [
    {
     "name": "stdout",
     "output_type": "stream",
     "text": [
      "Found 744 images belonging to 1 classes.\n"
     ]
    }
   ],
   "source": [
    "test_datagen = ImageDataGenerator(rescale=1./255)\n",
    "test_generator = test_datagen.flow_from_directory(\n",
    "    '/Users/fanfurick/Downloads/plates',\n",
    "    classes=['test'],\n",
    "    target_size=(img_size, img_size),\n",
    "    batch_size=1,\n",
    "    shuffle=False,\n",
    "    class_mode='binary'\n",
    ")"
   ]
  },
  {
   "cell_type": "markdown",
   "id": "27ab06a7",
   "metadata": {},
   "source": [
    "# Загрузка модели"
   ]
  },
  {
   "cell_type": "code",
   "execution_count": 18,
   "id": "7f9ec4f4",
   "metadata": {},
   "outputs": [],
   "source": [
    "base_model = applications.InceptionResNetV2(weights='imagenet', \n",
    "                                                include_top=False, \n",
    "                                                input_shape=(img_size, img_size, 3))"
   ]
  },
  {
   "cell_type": "markdown",
   "id": "61b0626d",
   "metadata": {},
   "source": [
    "# Работа с моделью"
   ]
  },
  {
   "cell_type": "code",
   "execution_count": 19,
   "id": "7e3a6e89",
   "metadata": {},
   "outputs": [],
   "source": [
    "base_model.trainable = False\n",
    "x = base_model.output"
   ]
  },
  {
   "cell_type": "code",
   "execution_count": 20,
   "id": "a93bca4c",
   "metadata": {},
   "outputs": [],
   "source": [
    "x = Flatten()(x)  # Преобразование выходов в одномерный массив\n",
    "x = Dense(4096, activation=\"relu\")(x)  # Полносвязный слой с активацией ReLU\n",
    "x = Dropout(0.6)(x)  # Слой Dropout для регуляризации\n",
    "predictions = Dense(1, activation=\"sigmoid\")(x)  # Выходной слой с сигмоидной активацией\n",
    "model = Model(inputs=base_model.input, outputs=predictions)"
   ]
  },
  {
   "cell_type": "markdown",
   "id": "01ffab98",
   "metadata": {},
   "source": [
    "# Компиляция модели"
   ]
  },
  {
   "cell_type": "code",
   "execution_count": 21,
   "id": "73acd38e",
   "metadata": {},
   "outputs": [],
   "source": [
    "model.compile(loss='binary_crossentropy', optimizer=optimizers.RMSprop(learning_rate=1e-5), metrics=['accuracy'])"
   ]
  },
  {
   "cell_type": "code",
   "execution_count": 30,
   "id": "3a46620d",
   "metadata": {},
   "outputs": [
    {
     "name": "stdout",
     "output_type": "stream",
     "text": [
      "Epoch 1/20\n",
      "\u001b[1m10/10\u001b[0m \u001b[32m━━━━━━━━━━━━━━━━━━━━\u001b[0m\u001b[37m\u001b[0m \u001b[1m3s\u001b[0m 85ms/step - accuracy: 0.8494 - loss: 0.3346 \n",
      "Epoch 2/20\n",
      "\u001b[1m10/10\u001b[0m \u001b[32m━━━━━━━━━━━━━━━━━━━━\u001b[0m\u001b[37m\u001b[0m \u001b[1m3s\u001b[0m 206ms/step - accuracy: 0.7500 - loss: 0.5140\n",
      "Epoch 3/20\n",
      "\u001b[1m10/10\u001b[0m \u001b[32m━━━━━━━━━━━━━━━━━━━━\u001b[0m\u001b[37m\u001b[0m \u001b[1m3s\u001b[0m 86ms/step - accuracy: 0.9231 - loss: 0.2504 \n",
      "Epoch 4/20\n",
      "\u001b[1m10/10\u001b[0m \u001b[32m━━━━━━━━━━━━━━━━━━━━\u001b[0m\u001b[37m\u001b[0m \u001b[1m3s\u001b[0m 86ms/step - accuracy: 0.8719 - loss: 0.3753 \n",
      "Epoch 5/20\n",
      "\u001b[1m10/10\u001b[0m \u001b[32m━━━━━━━━━━━━━━━━━━━━\u001b[0m\u001b[37m\u001b[0m \u001b[1m3s\u001b[0m 84ms/step - accuracy: 0.8750 - loss: 0.2771 \n",
      "Epoch 6/20\n",
      "\u001b[1m10/10\u001b[0m \u001b[32m━━━━━━━━━━━━━━━━━━━━\u001b[0m\u001b[37m\u001b[0m \u001b[1m3s\u001b[0m 193ms/step - accuracy: 0.8500 - loss: 0.4016\n",
      "Epoch 7/20\n",
      "\u001b[1m10/10\u001b[0m \u001b[32m━━━━━━━━━━━━━━━━━━━━\u001b[0m\u001b[37m\u001b[0m \u001b[1m3s\u001b[0m 186ms/step - accuracy: 0.9100 - loss: 0.2502\n",
      "Epoch 8/20\n",
      "\u001b[1m10/10\u001b[0m \u001b[32m━━━━━━━━━━━━━━━━━━━━\u001b[0m\u001b[37m\u001b[0m \u001b[1m3s\u001b[0m 84ms/step - accuracy: 0.9231 - loss: 0.2104 \n",
      "Epoch 9/20\n",
      "\u001b[1m10/10\u001b[0m \u001b[32m━━━━━━━━━━━━━━━━━━━━\u001b[0m\u001b[37m\u001b[0m \u001b[1m3s\u001b[0m 86ms/step - accuracy: 0.9231 - loss: 0.1822 \n",
      "Epoch 10/20\n",
      "\u001b[1m10/10\u001b[0m \u001b[32m━━━━━━━━━━━━━━━━━━━━\u001b[0m\u001b[37m\u001b[0m \u001b[1m3s\u001b[0m 87ms/step - accuracy: 0.8781 - loss: 0.3595 \n",
      "Epoch 11/20\n",
      "\u001b[1m10/10\u001b[0m \u001b[32m━━━━━━━━━━━━━━━━━━━━\u001b[0m\u001b[37m\u001b[0m \u001b[1m3s\u001b[0m 85ms/step - accuracy: 0.9006 - loss: 0.3284 \n",
      "Epoch 12/20\n",
      "\u001b[1m10/10\u001b[0m \u001b[32m━━━━━━━━━━━━━━━━━━━━\u001b[0m\u001b[37m\u001b[0m \u001b[1m3s\u001b[0m 190ms/step - accuracy: 0.8525 - loss: 0.2497\n",
      "Epoch 13/20\n",
      "\u001b[1m10/10\u001b[0m \u001b[32m━━━━━━━━━━━━━━━━━━━━\u001b[0m\u001b[37m\u001b[0m \u001b[1m3s\u001b[0m 89ms/step - accuracy: 0.8750 - loss: 0.2745 \n",
      "Epoch 14/20\n"
     ]
    },
    {
     "name": "stderr",
     "output_type": "stream",
     "text": [
      "2024-10-05 13:29:06.143148: I tensorflow/core/framework/local_rendezvous.cc:404] Local rendezvous is aborting with status: OUT_OF_RANGE: End of sequence\n",
      "\t [[{{node IteratorGetNext}}]]\n"
     ]
    },
    {
     "name": "stdout",
     "output_type": "stream",
     "text": [
      "\u001b[1m10/10\u001b[0m \u001b[32m━━━━━━━━━━━━━━━━━━━━\u001b[0m\u001b[37m\u001b[0m \u001b[1m3s\u001b[0m 85ms/step - accuracy: 0.9006 - loss: 0.1719 \n",
      "Epoch 15/20\n",
      "\u001b[1m10/10\u001b[0m \u001b[32m━━━━━━━━━━━━━━━━━━━━\u001b[0m\u001b[37m\u001b[0m \u001b[1m3s\u001b[0m 190ms/step - accuracy: 0.8200 - loss: 0.5691\n",
      "Epoch 16/20\n",
      "\u001b[1m10/10\u001b[0m \u001b[32m━━━━━━━━━━━━━━━━━━━━\u001b[0m\u001b[37m\u001b[0m \u001b[1m3s\u001b[0m 187ms/step - accuracy: 0.8625 - loss: 0.3776\n",
      "Epoch 17/20\n",
      "\u001b[1m10/10\u001b[0m \u001b[32m━━━━━━━━━━━━━━━━━━━━\u001b[0m\u001b[37m\u001b[0m \u001b[1m3s\u001b[0m 86ms/step - accuracy: 0.8238 - loss: 0.5208 \n",
      "Epoch 18/20\n",
      "\u001b[1m10/10\u001b[0m \u001b[32m━━━━━━━━━━━━━━━━━━━━\u001b[0m\u001b[37m\u001b[0m \u001b[1m3s\u001b[0m 193ms/step - accuracy: 0.8875 - loss: 0.3856\n",
      "Epoch 19/20\n",
      "\u001b[1m10/10\u001b[0m \u001b[32m━━━━━━━━━━━━━━━━━━━━\u001b[0m\u001b[37m\u001b[0m \u001b[1m3s\u001b[0m 196ms/step - accuracy: 0.9325 - loss: 0.2400\n",
      "Epoch 20/20\n",
      "\u001b[1m10/10\u001b[0m \u001b[32m━━━━━━━━━━━━━━━━━━━━\u001b[0m\u001b[37m\u001b[0m \u001b[1m3s\u001b[0m 188ms/step - accuracy: 0.8075 - loss: 0.5717\n"
     ]
    },
    {
     "data": {
      "text/plain": [
       "<keras.src.callbacks.history.History at 0x37c55df30>"
      ]
     },
     "execution_count": 30,
     "metadata": {},
     "output_type": "execute_result"
    }
   ],
   "source": [
    "model.fit(\n",
    "        train_generator,\n",
    "        steps_per_epoch=10,\n",
    "        epochs=20,\n",
    "        verbose=1) "
   ]
  },
  {
   "cell_type": "code",
   "execution_count": 31,
   "id": "7a69c985",
   "metadata": {},
   "outputs": [],
   "source": [
    "test_generator.reset()"
   ]
  },
  {
   "cell_type": "markdown",
   "id": "cb223a1d",
   "metadata": {},
   "source": [
    "# Получение результата"
   ]
  },
  {
   "cell_type": "code",
   "execution_count": 32,
   "id": "8c6af23e",
   "metadata": {},
   "outputs": [
    {
     "name": "stdout",
     "output_type": "stream",
     "text": [
      "\u001b[1m744/744\u001b[0m \u001b[32m━━━━━━━━━━━━━━━━━━━━\u001b[0m\u001b[37m\u001b[0m \u001b[1m87s\u001b[0m 117ms/step\n",
      "label\n",
      "dirty      456\n",
      "cleaned    288\n",
      "Name: count, dtype: int64\n"
     ]
    }
   ],
   "source": [
    "predict = model.predict(test_generator, steps=len(test_generator.filenames))\n",
    "data_frame = {'id': [n for n in range(len(predict))], \n",
    "     'label': ['dirty' if x > 0.5 else 'cleaned' for x in predict]}\n",
    "result_df = DataFrame(data=data_frame)\n",
    "print(result_df['label'].value_counts())\n",
    "result_df.to_csv('result.csv', index=False)"
   ]
  },
  {
   "attachments": {},
   "cell_type": "markdown",
   "id": "8643c8c0",
   "metadata": {},
   "source": [
    "![](score_81.png)"
   ]
  }
 ],
 "metadata": {
  "kernelspec": {
   "display_name": "My Kernel",
   "language": "python",
   "name": "env_tensofrlow"
  },
  "language_info": {
   "codemirror_mode": {
    "name": "ipython",
    "version": 3
   },
   "file_extension": ".py",
   "mimetype": "text/x-python",
   "name": "python",
   "nbconvert_exporter": "python",
   "pygments_lexer": "ipython3",
   "version": "3.10.15"
  }
 },
 "nbformat": 4,
 "nbformat_minor": 5
}
