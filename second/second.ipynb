{
  "nbformat": 4,
  "nbformat_minor": 0,
  "metadata": {
    "colab": {
      "provenance": []
    },
    "kernelspec": {
      "name": "python3",
      "display_name": "Python 3"
    },
    "language_info": {
      "name": "python"
    }
  },
  "cells": [
    {
      "cell_type": "markdown",
      "source": [
        "# Скачивание/импорт пакетов"
      ],
      "metadata": {
        "id": "Qzl6H5bQUReN"
      }
    },
    {
      "cell_type": "code",
      "source": [
        "pip install datasets"
      ],
      "metadata": {
        "colab": {
          "base_uri": "https://localhost:8080/"
        },
        "id": "PA0tQapKPKFL",
        "outputId": "17e2bc4c-82be-450b-8da4-76d87c9e1e23"
      },
      "execution_count": 26,
      "outputs": [
        {
          "output_type": "stream",
          "name": "stdout",
          "text": [
            "Requirement already satisfied: datasets in /usr/local/lib/python3.10/dist-packages (3.0.1)\n",
            "Requirement already satisfied: filelock in /usr/local/lib/python3.10/dist-packages (from datasets) (3.16.1)\n",
            "Requirement already satisfied: numpy>=1.17 in /usr/local/lib/python3.10/dist-packages (from datasets) (1.26.4)\n",
            "Requirement already satisfied: pyarrow>=15.0.0 in /usr/local/lib/python3.10/dist-packages (from datasets) (16.1.0)\n",
            "Requirement already satisfied: dill<0.3.9,>=0.3.0 in /usr/local/lib/python3.10/dist-packages (from datasets) (0.3.8)\n",
            "Requirement already satisfied: pandas in /usr/local/lib/python3.10/dist-packages (from datasets) (2.2.2)\n",
            "Requirement already satisfied: requests>=2.32.2 in /usr/local/lib/python3.10/dist-packages (from datasets) (2.32.3)\n",
            "Requirement already satisfied: tqdm>=4.66.3 in /usr/local/lib/python3.10/dist-packages (from datasets) (4.66.5)\n",
            "Requirement already satisfied: xxhash in /usr/local/lib/python3.10/dist-packages (from datasets) (3.5.0)\n",
            "Requirement already satisfied: multiprocess in /usr/local/lib/python3.10/dist-packages (from datasets) (0.70.16)\n",
            "Requirement already satisfied: fsspec<=2024.6.1,>=2023.1.0 in /usr/local/lib/python3.10/dist-packages (from fsspec[http]<=2024.6.1,>=2023.1.0->datasets) (2024.6.1)\n",
            "Requirement already satisfied: aiohttp in /usr/local/lib/python3.10/dist-packages (from datasets) (3.10.10)\n",
            "Requirement already satisfied: huggingface-hub>=0.22.0 in /usr/local/lib/python3.10/dist-packages (from datasets) (0.24.7)\n",
            "Requirement already satisfied: packaging in /usr/local/lib/python3.10/dist-packages (from datasets) (24.1)\n",
            "Requirement already satisfied: pyyaml>=5.1 in /usr/local/lib/python3.10/dist-packages (from datasets) (6.0.2)\n",
            "Requirement already satisfied: aiohappyeyeballs>=2.3.0 in /usr/local/lib/python3.10/dist-packages (from aiohttp->datasets) (2.4.3)\n",
            "Requirement already satisfied: aiosignal>=1.1.2 in /usr/local/lib/python3.10/dist-packages (from aiohttp->datasets) (1.3.1)\n",
            "Requirement already satisfied: attrs>=17.3.0 in /usr/local/lib/python3.10/dist-packages (from aiohttp->datasets) (24.2.0)\n",
            "Requirement already satisfied: frozenlist>=1.1.1 in /usr/local/lib/python3.10/dist-packages (from aiohttp->datasets) (1.4.1)\n",
            "Requirement already satisfied: multidict<7.0,>=4.5 in /usr/local/lib/python3.10/dist-packages (from aiohttp->datasets) (6.1.0)\n",
            "Requirement already satisfied: yarl<2.0,>=1.12.0 in /usr/local/lib/python3.10/dist-packages (from aiohttp->datasets) (1.14.0)\n",
            "Requirement already satisfied: async-timeout<5.0,>=4.0 in /usr/local/lib/python3.10/dist-packages (from aiohttp->datasets) (4.0.3)\n",
            "Requirement already satisfied: typing-extensions>=3.7.4.3 in /usr/local/lib/python3.10/dist-packages (from huggingface-hub>=0.22.0->datasets) (4.12.2)\n",
            "Requirement already satisfied: charset-normalizer<4,>=2 in /usr/local/lib/python3.10/dist-packages (from requests>=2.32.2->datasets) (3.4.0)\n",
            "Requirement already satisfied: idna<4,>=2.5 in /usr/local/lib/python3.10/dist-packages (from requests>=2.32.2->datasets) (3.10)\n",
            "Requirement already satisfied: urllib3<3,>=1.21.1 in /usr/local/lib/python3.10/dist-packages (from requests>=2.32.2->datasets) (2.2.3)\n",
            "Requirement already satisfied: certifi>=2017.4.17 in /usr/local/lib/python3.10/dist-packages (from requests>=2.32.2->datasets) (2024.8.30)\n",
            "Requirement already satisfied: python-dateutil>=2.8.2 in /usr/local/lib/python3.10/dist-packages (from pandas->datasets) (2.8.2)\n",
            "Requirement already satisfied: pytz>=2020.1 in /usr/local/lib/python3.10/dist-packages (from pandas->datasets) (2024.2)\n",
            "Requirement already satisfied: tzdata>=2022.7 in /usr/local/lib/python3.10/dist-packages (from pandas->datasets) (2024.2)\n",
            "Requirement already satisfied: six>=1.5 in /usr/local/lib/python3.10/dist-packages (from python-dateutil>=2.8.2->pandas->datasets) (1.16.0)\n",
            "Requirement already satisfied: propcache>=0.2.0 in /usr/local/lib/python3.10/dist-packages (from yarl<2.0,>=1.12.0->aiohttp->datasets) (0.2.0)\n"
          ]
        }
      ]
    },
    {
      "cell_type": "code",
      "execution_count": 27,
      "metadata": {
        "id": "86miPSXaNm08"
      },
      "outputs": [],
      "source": [
        "import pandas as pd\n",
        "import re\n",
        "from datasets import load_dataset\n",
        "from collections import Counter\n",
        "import nltk\n",
        "from nltk.corpus import stopwords"
      ]
    },
    {
      "cell_type": "markdown",
      "source": [
        "# Методы для пред обработке данных, работе с ними"
      ],
      "metadata": {
        "id": "hSved1IFUbdY"
      }
    },
    {
      "cell_type": "code",
      "source": [
        "nltk.download('stopwords')\n",
        "stop_words = set(stopwords.words('russian'))"
      ],
      "metadata": {
        "colab": {
          "base_uri": "https://localhost:8080/"
        },
        "id": "xYO8Et_OREln",
        "outputId": "48f9e52c-7845-4551-db00-33e6d5dff185"
      },
      "execution_count": 28,
      "outputs": [
        {
          "output_type": "stream",
          "name": "stderr",
          "text": [
            "[nltk_data] Downloading package stopwords to /root/nltk_data...\n",
            "[nltk_data]   Package stopwords is already up-to-date!\n"
          ]
        }
      ]
    },
    {
      "cell_type": "code",
      "source": [
        "def clean_text(text):\n",
        "    text = text.lower()\n",
        "    text = re.sub(r'[^\\w\\s]', '', text)\n",
        "    text = re.sub(r'\\n', ' ', text)\n",
        "    return text"
      ],
      "metadata": {
        "id": "79-vrLEOPFTW"
      },
      "execution_count": 29,
      "outputs": []
    },
    {
      "cell_type": "code",
      "source": [
        "def process_dataset_in_chunks(file_path, column_name, chunksize=1000):\n",
        "    combined_texts = []\n",
        "    for chunk in pd.read_csv(file_path, chunksize=chunksize):\n",
        "        chunk[column_name] = chunk[column_name].apply(clean_text)\n",
        "        combined_texts.append(chunk[column_name])\n",
        "    return pd.concat(combined_texts, ignore_index=True)"
      ],
      "metadata": {
        "id": "WHoSCO6dPP2a"
      },
      "execution_count": 34,
      "outputs": []
    },
    {
      "cell_type": "code",
      "source": [
        "def get_word_counts(text_series):\n",
        "    all_text = ' '.join(text_series)\n",
        "    words = all_text.split()\n",
        "    words = [word for word in words if word not in stop_words]\n",
        "    word_counts = Counter(words)\n",
        "    return word_counts"
      ],
      "metadata": {
        "id": "14cJp-tmPT9i"
      },
      "execution_count": 31,
      "outputs": []
    },
    {
      "cell_type": "code",
      "source": [
        "def get_top_words(word_counts, top_n=10):\n",
        "    most_common = word_counts.most_common(top_n)\n",
        "    least_common = word_counts.most_common()[:-top_n-1:-1]\n",
        "    return most_common, least_common"
      ],
      "metadata": {
        "id": "1q6HQWKPPVPH"
      },
      "execution_count": 32,
      "outputs": []
    },
    {
      "cell_type": "markdown",
      "source": [
        "# Датасеты"
      ],
      "metadata": {
        "id": "zL3GahBEUtwt"
      }
    },
    {
      "cell_type": "code",
      "source": [
        "splits = {'train': 'train.csv', 'validation': 'valid.csv'}\n",
        "df1_texts = process_dataset_in_chunks(\"hf://datasets/MonoHime/ru_sentiment_dataset/\" + splits[\"train\"], 'text')"
      ],
      "metadata": {
        "id": "dtmGs7LgPa-q"
      },
      "execution_count": 35,
      "outputs": []
    },
    {
      "cell_type": "code",
      "source": [
        "df2_texts = process_dataset_in_chunks(\"hf://datasets/Romjiik/Russian_bank_reviews/final_review_dataset_extended.csv\", 'review')"
      ],
      "metadata": {
        "id": "OoW8SJLBPdJW"
      },
      "execution_count": 36,
      "outputs": []
    },
    {
      "cell_type": "markdown",
      "source": [
        "# Различные ответы по датасетам"
      ],
      "metadata": {
        "id": "pcPDA2odU_7o"
      }
    },
    {
      "cell_type": "code",
      "source": [
        "df1_word_counts = get_word_counts(df1_texts)\n",
        "df1_most_common, df1_least_common = get_top_words(df1_word_counts)\n",
        "print(\"Первый датасет - Самые частые слова:\", df1_most_common)\n",
        "print(\"Первый датасет - Самые редкие слова:\", df1_least_common)"
      ],
      "metadata": {
        "colab": {
          "base_uri": "https://localhost:8080/"
        },
        "id": "nEfqqtjTT0kD",
        "outputId": "8a94ce2f-fef5-47f3-dc6d-c50421bbe93c"
      },
      "execution_count": 37,
      "outputs": [
        {
          "output_type": "stream",
          "name": "stdout",
          "text": [
            "Первый датасет - Самые частые слова: [('очень', 139823), ('это', 128531), ('отель', 46809), ('спасибо', 45783), ('просто', 39224), ('года', 35249), ('время', 29662), ('день', 28402), ('нам', 28198), ('номер', 27202)]\n",
            "Первый датасет - Самые редкие слова: [('шутливые', 1), ('сготовленные', 1), ('автобарселона', 1), ('близкобрали', 1), ('путешествиясотрудники', 1), ('шрейбер', 1), ('хотнелось', 1), ('любезныймы', 1), ('постернак', 1), ('хруцкой', 1)]\n"
          ]
        }
      ]
    },
    {
      "cell_type": "code",
      "source": [
        "df2_word_counts = get_word_counts(df2_texts)\n",
        "df2_most_common, df2_least_common = get_top_words(df2_word_counts)\n",
        "print(\"Второй датасет - Самые частые слова:\", df2_most_common)\n",
        "print(\"Второй датасет - Самые редкие слова:\", df2_least_common)"
      ],
      "metadata": {
        "colab": {
          "base_uri": "https://localhost:8080/"
        },
        "id": "1jFHYz1HU07x",
        "outputId": "3cb7898b-7c8a-402d-d370-9f92e9d20f6f"
      },
      "execution_count": 38,
      "outputs": [
        {
          "output_type": "stream",
          "name": "stdout",
          "text": [
            "Второй датасет - Самые частые слова: [('банка', 15223), ('банк', 11778), ('это', 8475), ('карту', 8128), ('очень', 5625), ('карты', 5540), ('деньги', 5462), ('день', 4443), ('дней', 3828), ('время', 3231)]\n",
            "Второй датасет - Самые редкие слова: [('вову', 1), ('сотрудникпредставитель', 1), ('делили', 1), ('нба', 1), ('представитедем', 1), ('водный', 1), ('возрастеили', 1), ('пугая', 1), ('схеменепонятно', 1), ('исков', 1)]\n"
          ]
        }
      ]
    },
    {
      "cell_type": "code",
      "source": [
        "ombined_texts = pd.concat([df1_texts, df2_texts], ignore_index=True)\n",
        "combined_word_counts = get_word_counts(combined_texts)\n",
        "word_counts_df = pd.DataFrame(combined_word_counts.items(), columns=['word', 'count'])"
      ],
      "metadata": {
        "id": "JfQd7Q5eU4sc"
      },
      "execution_count": 39,
      "outputs": []
    },
    {
      "cell_type": "code",
      "source": [
        "combined_most_common, combined_least_common = get_top_words(combined_word_counts)\n",
        "print(\"Объединённый датасет - Самые частые слова:\", combined_most_common)\n",
        "print(\"Объединённый датасет - Самые редкие слова:\", combined_least_common)"
      ],
      "metadata": {
        "colab": {
          "base_uri": "https://localhost:8080/"
        },
        "id": "M51jxqwVU-8v",
        "outputId": "9b3d1878-9a93-4a22-d0b4-23bada071d7d"
      },
      "execution_count": 41,
      "outputs": [
        {
          "output_type": "stream",
          "name": "stdout",
          "text": [
            "Объединённый датасет - Самые частые слова: [('это', 1636), ('банка', 1559), ('банк', 1202), ('очень', 1017), ('карту', 813), ('карты', 594), ('день', 527), ('деньги', 518), ('время', 495), ('просто', 487)]\n",
            "Объединённый датасет - Самые редкие слова: [('приписывают', 1), ('соблюдают', 1), ('предостерегает', 1), ('общемникогда', 1), ('убедительный', 1), ('непрофиссионализм', 1), ('некомпитентность', 1), ('абсолютную', 1), ('исписанными', 1), ('рваными', 1)]\n"
          ]
        }
      ]
    }
  ]
}