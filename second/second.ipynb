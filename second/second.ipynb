{
  "cells": [
    {
      "cell_type": "markdown",
      "metadata": {
        "id": "Qzl6H5bQUReN"
      },
      "source": [
        "# Скачивание/импорт пакетов"
      ]
    },
    {
      "cell_type": "code",
      "execution_count": 1,
      "metadata": {
        "colab": {
          "base_uri": "https://localhost:8080/"
        },
        "id": "PA0tQapKPKFL",
        "outputId": "17e2bc4c-82be-450b-8da4-76d87c9e1e23"
      },
      "outputs": [
        {
          "name": "stdout",
          "output_type": "stream",
          "text": [
            "Requirement already satisfied: datasets in /opt/homebrew/Caskroom/miniforge/base/envs/env_tensorflow/lib/python3.10/site-packages (3.0.1)\n",
            "Requirement already satisfied: filelock in /opt/homebrew/Caskroom/miniforge/base/envs/env_tensorflow/lib/python3.10/site-packages (from datasets) (3.16.1)\n",
            "Requirement already satisfied: numpy>=1.17 in /opt/homebrew/Caskroom/miniforge/base/envs/env_tensorflow/lib/python3.10/site-packages (from datasets) (2.0.2)\n",
            "Requirement already satisfied: pyarrow>=15.0.0 in /opt/homebrew/Caskroom/miniforge/base/envs/env_tensorflow/lib/python3.10/site-packages (from datasets) (17.0.0)\n",
            "Requirement already satisfied: dill<0.3.9,>=0.3.0 in /opt/homebrew/Caskroom/miniforge/base/envs/env_tensorflow/lib/python3.10/site-packages (from datasets) (0.3.8)\n",
            "Requirement already satisfied: pandas in /opt/homebrew/Caskroom/miniforge/base/envs/env_tensorflow/lib/python3.10/site-packages (from datasets) (2.2.3)\n",
            "Requirement already satisfied: requests>=2.32.2 in /opt/homebrew/Caskroom/miniforge/base/envs/env_tensorflow/lib/python3.10/site-packages (from datasets) (2.32.3)\n",
            "Requirement already satisfied: tqdm>=4.66.3 in /opt/homebrew/Caskroom/miniforge/base/envs/env_tensorflow/lib/python3.10/site-packages (from datasets) (4.66.5)\n",
            "Requirement already satisfied: xxhash in /opt/homebrew/Caskroom/miniforge/base/envs/env_tensorflow/lib/python3.10/site-packages (from datasets) (3.5.0)\n",
            "Requirement already satisfied: multiprocess in /opt/homebrew/Caskroom/miniforge/base/envs/env_tensorflow/lib/python3.10/site-packages (from datasets) (0.70.16)\n",
            "Requirement already satisfied: fsspec<=2024.6.1,>=2023.1.0 in /opt/homebrew/Caskroom/miniforge/base/envs/env_tensorflow/lib/python3.10/site-packages (from fsspec[http]<=2024.6.1,>=2023.1.0->datasets) (2024.6.1)\n",
            "Requirement already satisfied: aiohttp in /opt/homebrew/Caskroom/miniforge/base/envs/env_tensorflow/lib/python3.10/site-packages (from datasets) (3.10.10)\n",
            "Requirement already satisfied: huggingface-hub>=0.22.0 in /opt/homebrew/Caskroom/miniforge/base/envs/env_tensorflow/lib/python3.10/site-packages (from datasets) (0.25.2)\n",
            "Requirement already satisfied: packaging in /opt/homebrew/Caskroom/miniforge/base/envs/env_tensorflow/lib/python3.10/site-packages (from datasets) (24.1)\n",
            "Requirement already satisfied: pyyaml>=5.1 in /opt/homebrew/Caskroom/miniforge/base/envs/env_tensorflow/lib/python3.10/site-packages (from datasets) (6.0.2)\n",
            "Requirement already satisfied: aiohappyeyeballs>=2.3.0 in /opt/homebrew/Caskroom/miniforge/base/envs/env_tensorflow/lib/python3.10/site-packages (from aiohttp->datasets) (2.4.3)\n",
            "Requirement already satisfied: aiosignal>=1.1.2 in /opt/homebrew/Caskroom/miniforge/base/envs/env_tensorflow/lib/python3.10/site-packages (from aiohttp->datasets) (1.3.1)\n",
            "Requirement already satisfied: attrs>=17.3.0 in /opt/homebrew/Caskroom/miniforge/base/envs/env_tensorflow/lib/python3.10/site-packages (from aiohttp->datasets) (24.2.0)\n",
            "Requirement already satisfied: frozenlist>=1.1.1 in /opt/homebrew/Caskroom/miniforge/base/envs/env_tensorflow/lib/python3.10/site-packages (from aiohttp->datasets) (1.4.1)\n",
            "Requirement already satisfied: multidict<7.0,>=4.5 in /opt/homebrew/Caskroom/miniforge/base/envs/env_tensorflow/lib/python3.10/site-packages (from aiohttp->datasets) (6.1.0)\n",
            "Requirement already satisfied: yarl<2.0,>=1.12.0 in /opt/homebrew/Caskroom/miniforge/base/envs/env_tensorflow/lib/python3.10/site-packages (from aiohttp->datasets) (1.15.2)\n",
            "Requirement already satisfied: async-timeout<5.0,>=4.0 in /opt/homebrew/Caskroom/miniforge/base/envs/env_tensorflow/lib/python3.10/site-packages (from aiohttp->datasets) (4.0.3)\n",
            "Requirement already satisfied: typing-extensions>=3.7.4.3 in /opt/homebrew/Caskroom/miniforge/base/envs/env_tensorflow/lib/python3.10/site-packages (from huggingface-hub>=0.22.0->datasets) (4.12.2)\n",
            "Requirement already satisfied: charset-normalizer<4,>=2 in /opt/homebrew/Caskroom/miniforge/base/envs/env_tensorflow/lib/python3.10/site-packages (from requests>=2.32.2->datasets) (3.3.2)\n",
            "Requirement already satisfied: idna<4,>=2.5 in /opt/homebrew/Caskroom/miniforge/base/envs/env_tensorflow/lib/python3.10/site-packages (from requests>=2.32.2->datasets) (3.10)\n",
            "Requirement already satisfied: urllib3<3,>=1.21.1 in /opt/homebrew/Caskroom/miniforge/base/envs/env_tensorflow/lib/python3.10/site-packages (from requests>=2.32.2->datasets) (2.2.3)\n",
            "Requirement already satisfied: certifi>=2017.4.17 in /opt/homebrew/Caskroom/miniforge/base/envs/env_tensorflow/lib/python3.10/site-packages (from requests>=2.32.2->datasets) (2024.8.30)\n",
            "Requirement already satisfied: python-dateutil>=2.8.2 in /opt/homebrew/Caskroom/miniforge/base/envs/env_tensorflow/lib/python3.10/site-packages (from pandas->datasets) (2.9.0.post0)\n",
            "Requirement already satisfied: pytz>=2020.1 in /opt/homebrew/Caskroom/miniforge/base/envs/env_tensorflow/lib/python3.10/site-packages (from pandas->datasets) (2024.2)\n",
            "Requirement already satisfied: tzdata>=2022.7 in /opt/homebrew/Caskroom/miniforge/base/envs/env_tensorflow/lib/python3.10/site-packages (from pandas->datasets) (2024.2)\n",
            "Requirement already satisfied: six>=1.5 in /opt/homebrew/Caskroom/miniforge/base/envs/env_tensorflow/lib/python3.10/site-packages (from python-dateutil>=2.8.2->pandas->datasets) (1.16.0)\n",
            "Requirement already satisfied: propcache>=0.2.0 in /opt/homebrew/Caskroom/miniforge/base/envs/env_tensorflow/lib/python3.10/site-packages (from yarl<2.0,>=1.12.0->aiohttp->datasets) (0.2.0)\n",
            "Note: you may need to restart the kernel to use updated packages.\n"
          ]
        }
      ],
      "source": [
        "pip install datasets"
      ]
    },
    {
      "cell_type": "code",
      "execution_count": 2,
      "metadata": {},
      "outputs": [
        {
          "name": "stdout",
          "output_type": "stream",
          "text": [
            "Requirement already satisfied: nltk in /opt/homebrew/Caskroom/miniforge/base/envs/env_tensorflow/lib/python3.10/site-packages (3.9.1)\n",
            "Requirement already satisfied: click in /opt/homebrew/Caskroom/miniforge/base/envs/env_tensorflow/lib/python3.10/site-packages (from nltk) (8.1.7)\n",
            "Requirement already satisfied: joblib in /opt/homebrew/Caskroom/miniforge/base/envs/env_tensorflow/lib/python3.10/site-packages (from nltk) (1.4.2)\n",
            "Requirement already satisfied: regex>=2021.8.3 in /opt/homebrew/Caskroom/miniforge/base/envs/env_tensorflow/lib/python3.10/site-packages (from nltk) (2024.9.11)\n",
            "Requirement already satisfied: tqdm in /opt/homebrew/Caskroom/miniforge/base/envs/env_tensorflow/lib/python3.10/site-packages (from nltk) (4.66.5)\n",
            "Note: you may need to restart the kernel to use updated packages.\n"
          ]
        }
      ],
      "source": [
        "pip install nltk"
      ]
    },
    {
      "cell_type": "code",
      "execution_count": 3,
      "metadata": {
        "id": "86miPSXaNm08"
      },
      "outputs": [
        {
          "name": "stderr",
          "output_type": "stream",
          "text": [
            "/opt/homebrew/Caskroom/miniforge/base/envs/env_tensorflow/lib/python3.10/site-packages/tqdm/auto.py:21: TqdmWarning: IProgress not found. Please update jupyter and ipywidgets. See https://ipywidgets.readthedocs.io/en/stable/user_install.html\n",
            "  from .autonotebook import tqdm as notebook_tqdm\n"
          ]
        }
      ],
      "source": [
        "import pandas as pd\n",
        "import re\n",
        "from datasets import load_dataset\n",
        "from collections import Counter\n",
        "import nltk\n",
        "from nltk.corpus import stopwords"
      ]
    },
    {
      "cell_type": "markdown",
      "metadata": {
        "id": "hSved1IFUbdY"
      },
      "source": [
        "# Методы для пред обработке данных, работе с ними"
      ]
    },
    {
      "cell_type": "code",
      "execution_count": 4,
      "metadata": {
        "colab": {
          "base_uri": "https://localhost:8080/"
        },
        "id": "xYO8Et_OREln",
        "outputId": "48f9e52c-7845-4551-db00-33e6d5dff185"
      },
      "outputs": [
        {
          "name": "stderr",
          "output_type": "stream",
          "text": [
            "[nltk_data] Downloading package stopwords to\n",
            "[nltk_data]     /Users/fanfurick/nltk_data...\n",
            "[nltk_data]   Package stopwords is already up-to-date!\n"
          ]
        }
      ],
      "source": [
        "nltk.download('stopwords')\n",
        "stop_words = set(stopwords.words('russian'))"
      ]
    },
    {
      "cell_type": "code",
      "execution_count": 5,
      "metadata": {
        "id": "79-vrLEOPFTW"
      },
      "outputs": [],
      "source": [
        "def clean_text(text):\n",
        "    text = text.lower()\n",
        "    text = re.sub(r'[^\\w\\s]', '', text)\n",
        "    text = re.sub(r'\\n', ' ', text)\n",
        "    return text"
      ]
    },
    {
      "cell_type": "code",
      "execution_count": 6,
      "metadata": {
        "id": "WHoSCO6dPP2a"
      },
      "outputs": [],
      "source": [
        "def process_dataset_in_chunks(file_path, column_name, chunksize=1000):\n",
        "    combined_texts = []\n",
        "    for chunk in pd.read_csv(file_path, chunksize=chunksize):\n",
        "        chunk[column_name] = chunk[column_name].apply(clean_text)\n",
        "        combined_texts.append(chunk[column_name])\n",
        "    return pd.concat(combined_texts, ignore_index=True)"
      ]
    },
    {
      "cell_type": "code",
      "execution_count": 7,
      "metadata": {
        "id": "14cJp-tmPT9i"
      },
      "outputs": [],
      "source": [
        "def get_word_counts(text_series):\n",
        "    all_text = ' '.join(text_series)\n",
        "    words = all_text.split()\n",
        "    words = [word for word in words if word not in stop_words]\n",
        "    word_counts = Counter(words)\n",
        "    return word_counts"
      ]
    },
    {
      "cell_type": "code",
      "execution_count": 8,
      "metadata": {
        "id": "1q6HQWKPPVPH"
      },
      "outputs": [],
      "source": [
        "def get_top_words(word_counts, top_n=10):\n",
        "    most_common = word_counts.most_common(top_n)\n",
        "    least_common = word_counts.most_common()[:-top_n-1:-1]\n",
        "    return most_common, least_common"
      ]
    },
    {
      "cell_type": "markdown",
      "metadata": {
        "id": "zL3GahBEUtwt"
      },
      "source": [
        "# Датасеты"
      ]
    },
    {
      "cell_type": "code",
      "execution_count": 9,
      "metadata": {
        "id": "dtmGs7LgPa-q"
      },
      "outputs": [
        {
          "name": "stderr",
          "output_type": "stream",
          "text": [
            "'HTTPSConnectionPool(host='cdn-lfs.hf.co', port=443): Read timed out.' thrown while requesting GET https://huggingface.co/datasets/MonoHime/ru_sentiment_dataset/resolve/main/train.csv\n",
            "Retrying in 1s [Retry 1/5].\n"
          ]
        }
      ],
      "source": [
        "splits = {'train': 'train.csv', 'validation': 'valid.csv'}\n",
        "df1_texts = process_dataset_in_chunks(\"hf://datasets/MonoHime/ru_sentiment_dataset/\" + splits[\"train\"], 'text')"
      ]
    },
    {
      "cell_type": "code",
      "execution_count": 10,
      "metadata": {
        "id": "OoW8SJLBPdJW"
      },
      "outputs": [],
      "source": [
        "df2_texts = process_dataset_in_chunks(\"hf://datasets/Romjiik/Russian_bank_reviews/final_review_dataset_extended.csv\", 'review')"
      ]
    },
    {
      "cell_type": "markdown",
      "metadata": {
        "id": "pcPDA2odU_7o"
      },
      "source": [
        "# Различные ответы по датасетам"
      ]
    },
    {
      "cell_type": "code",
      "execution_count": 11,
      "metadata": {
        "colab": {
          "base_uri": "https://localhost:8080/"
        },
        "id": "nEfqqtjTT0kD",
        "outputId": "8a94ce2f-fef5-47f3-dc6d-c50421bbe93c"
      },
      "outputs": [
        {
          "name": "stdout",
          "output_type": "stream",
          "text": [
            "Первый датасет - Самые частые слова: [('очень', 139823), ('это', 128531), ('отель', 46809), ('спасибо', 45783), ('просто', 39224), ('года', 35249), ('время', 29662), ('день', 28402), ('нам', 28198), ('номер', 27202)]\n",
            "Первый датасет - Самые редкие слова: [('шутливые', 1), ('сготовленные', 1), ('автобарселона', 1), ('близкобрали', 1), ('путешествиясотрудники', 1), ('шрейбер', 1), ('хотнелось', 1), ('любезныймы', 1), ('постернак', 1), ('хруцкой', 1)]\n"
          ]
        }
      ],
      "source": [
        "df1_word_counts = get_word_counts(df1_texts)\n",
        "df1_most_common, df1_least_common = get_top_words(df1_word_counts)\n",
        "print(\"Первый датасет - Самые частые слова:\", df1_most_common)\n",
        "print(\"Первый датасет - Самые редкие слова:\", df1_least_common)"
      ]
    },
    {
      "cell_type": "code",
      "execution_count": 12,
      "metadata": {
        "colab": {
          "base_uri": "https://localhost:8080/"
        },
        "id": "1jFHYz1HU07x",
        "outputId": "3cb7898b-7c8a-402d-d370-9f92e9d20f6f"
      },
      "outputs": [
        {
          "name": "stdout",
          "output_type": "stream",
          "text": [
            "Второй датасет - Самые частые слова: [('банка', 15223), ('банк', 11778), ('это', 8475), ('карту', 8128), ('очень', 5625), ('карты', 5540), ('деньги', 5462), ('день', 4443), ('дней', 3828), ('время', 3231)]\n",
            "Второй датасет - Самые редкие слова: [('вову', 1), ('сотрудникпредставитель', 1), ('делили', 1), ('нба', 1), ('представитедем', 1), ('водный', 1), ('возрастеили', 1), ('пугая', 1), ('схеменепонятно', 1), ('исков', 1)]\n"
          ]
        }
      ],
      "source": [
        "df2_word_counts = get_word_counts(df2_texts)\n",
        "df2_most_common, df2_least_common = get_top_words(df2_word_counts)\n",
        "print(\"Второй датасет - Самые частые слова:\", df2_most_common)\n",
        "print(\"Второй датасет - Самые редкие слова:\", df2_least_common)"
      ]
    },
    {
      "cell_type": "code",
      "execution_count": 13,
      "metadata": {
        "id": "JfQd7Q5eU4sc"
      },
      "outputs": [],
      "source": [
        "combined_texts = pd.concat([df1_texts, df2_texts], ignore_index=True)\n",
        "combined_texts.to_csv('combined_texts.csv', index=False, header=['text'], encoding='utf-8')\n",
        "combined_word_counts = get_word_counts(combined_texts)\n",
        "word_counts_df = pd.DataFrame(combined_word_counts.items(), columns=['word', 'count'])"
      ]
    },
    {
      "cell_type": "code",
      "execution_count": 14,
      "metadata": {
        "colab": {
          "base_uri": "https://localhost:8080/"
        },
        "id": "M51jxqwVU-8v",
        "outputId": "9b3d1878-9a93-4a22-d0b4-23bada071d7d"
      },
      "outputs": [
        {
          "name": "stdout",
          "output_type": "stream",
          "text": [
            "Объединённый датасет - Самые частые слова: [('очень', 145448), ('это', 137006), ('спасибо', 48230), ('отель', 46812), ('просто', 41824), ('года', 38064), ('время', 32893), ('день', 32845), ('нам', 28915), ('номер', 28639)]\n",
            "Объединённый датасет - Самые редкие слова: [('сотрудникпредставитель', 1), ('нба', 1), ('представитедем', 1), ('возрастеили', 1), ('схеменепонятно', 1), ('выпросьба', 1), ('чатеще', 1), ('ожидатьно', 1), ('средствамимы', 1), ('выполнитьтак', 1)]\n"
          ]
        }
      ],
      "source": [
        "combined_most_common, combined_least_common = get_top_words(combined_word_counts)\n",
        "print(\"Объединённый датасет - Самые частые слова:\", combined_most_common)\n",
        "print(\"Объединённый датасет - Самые редкие слова:\", combined_least_common)"
      ]
    }
  ],
  "metadata": {
    "colab": {
      "provenance": []
    },
    "kernelspec": {
      "display_name": "Python 3",
      "name": "python3"
    },
    "language_info": {
      "codemirror_mode": {
        "name": "ipython",
        "version": 3
      },
      "file_extension": ".py",
      "mimetype": "text/x-python",
      "name": "python",
      "nbconvert_exporter": "python",
      "pygments_lexer": "ipython3",
      "version": "3.10.15"
    }
  },
  "nbformat": 4,
  "nbformat_minor": 0
}
